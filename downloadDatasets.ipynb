{
 "cells": [
  {
   "cell_type": "code",
   "execution_count": 1,
   "metadata": {},
   "outputs": [],
   "source": [
    "from roboflow import Roboflow"
   ]
  },
  {
   "cell_type": "code",
   "execution_count": 2,
   "metadata": {},
   "outputs": [
    {
     "name": "stdout",
     "output_type": "stream",
     "text": [
      "loading Roboflow workspace...\n",
      "loading Roboflow project...\n"
     ]
    },
    {
     "name": "stderr",
     "output_type": "stream",
     "text": [
      "Downloading Dataset Version Zip in Auto-floating-garbage-collector-1 to yolov4pytorch:: 100%|██████████| 653932/653932 [00:42<00:00, 15502.76it/s]"
     ]
    },
    {
     "name": "stdout",
     "output_type": "stream",
     "text": [
      "\n"
     ]
    },
    {
     "name": "stderr",
     "output_type": "stream",
     "text": [
      "\n",
      "Extracting Dataset Version Zip to Auto-floating-garbage-collector-1 in yolov4pytorch:: 100%|██████████| 13461/13461 [00:17<00:00, 769.75it/s]\n"
     ]
    }
   ],
   "source": [
    "rf = Roboflow(api_key=\"uMUVjvL3wu5Jz1Y3sq4J\")\n",
    "project = rf.workspace(\"class-ujqr2\").project(\"auto-floating-garbage-collector\")\n",
    "version = project.version(1)\n",
    "dataset = version.download(\"yolov4pytorch\")"
   ]
  },
  {
   "cell_type": "code",
   "execution_count": 3,
   "metadata": {},
   "outputs": [
    {
     "name": "stdout",
     "output_type": "stream",
     "text": [
      "loading Roboflow workspace...\n",
      "loading Roboflow project...\n"
     ]
    },
    {
     "name": "stderr",
     "output_type": "stream",
     "text": [
      "Downloading Dataset Version Zip in Autonomous-Garbage-Collector-Boat-1 to yolov4pytorch:: 100%|██████████| 121635/121635 [00:08<00:00, 14517.82it/s]"
     ]
    },
    {
     "name": "stdout",
     "output_type": "stream",
     "text": [
      "\n"
     ]
    },
    {
     "name": "stderr",
     "output_type": "stream",
     "text": [
      "\n",
      "Extracting Dataset Version Zip to Autonomous-Garbage-Collector-Boat-1 in yolov4pytorch:: 100%|██████████| 3218/3218 [00:04<00:00, 783.49it/s]\n"
     ]
    }
   ],
   "source": [
    "rf = Roboflow(api_key=\"uMUVjvL3wu5Jz1Y3sq4J\")\n",
    "project = rf.workspace(\"thesis-oebh2\").project(\"autonomous-garbage-collector-boat-lfotv\")\n",
    "version = project.version(1)\n",
    "dataset = version.download(\"yolov4pytorch\")"
   ]
  },
  {
   "cell_type": "code",
   "execution_count": 4,
   "metadata": {},
   "outputs": [
    {
     "name": "stdout",
     "output_type": "stream",
     "text": [
      "loading Roboflow workspace...\n",
      "loading Roboflow project...\n"
     ]
    },
    {
     "name": "stderr",
     "output_type": "stream",
     "text": [
      "Downloading Dataset Version Zip in VOCImgs-5 to yolov4pytorch:: 100%|██████████| 117083/117083 [00:08<00:00, 13609.23it/s]"
     ]
    },
    {
     "name": "stdout",
     "output_type": "stream",
     "text": [
      "\n"
     ]
    },
    {
     "name": "stderr",
     "output_type": "stream",
     "text": [
      "\n",
      "Extracting Dataset Version Zip to VOCImgs-5 in yolov4pytorch:: 100%|██████████| 2284/2284 [00:02<00:00, 814.42it/s]\n"
     ]
    }
   ],
   "source": [
    "rf = Roboflow(api_key=\"uMUVjvL3wu5Jz1Y3sq4J\")\n",
    "project = rf.workspace(\"bao-bao-3gkoq\").project(\"vocimgs\")\n",
    "version = project.version(5)\n",
    "dataset = version.download(\"yolov4pytorch\")"
   ]
  }
 ],
 "metadata": {
  "kernelspec": {
   "display_name": "Python 3",
   "language": "python",
   "name": "python3"
  },
  "language_info": {
   "codemirror_mode": {
    "name": "ipython",
    "version": 3
   },
   "file_extension": ".py",
   "mimetype": "text/x-python",
   "name": "python",
   "nbconvert_exporter": "python",
   "pygments_lexer": "ipython3",
   "version": "3.11.9"
  }
 },
 "nbformat": 4,
 "nbformat_minor": 2
}
